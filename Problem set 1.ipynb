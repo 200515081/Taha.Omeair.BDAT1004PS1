{
 "cells": [
  {
   "cell_type": "markdown",
   "id": "6f9f04ac",
   "metadata": {},
   "source": [
    "Question 1"
   ]
  },
  {
   "cell_type": "code",
   "execution_count": 12,
   "id": "45395bc4",
   "metadata": {
    "scrolled": true
   },
   "outputs": [
    {
     "data": {
      "text/plain": [
       "int"
      ]
     },
     "execution_count": 12,
     "metadata": {},
     "output_type": "execute_result"
    }
   ],
   "source": [
    "type(5)"
   ]
  },
  {
   "cell_type": "code",
   "execution_count": 13,
   "id": "70d15022",
   "metadata": {},
   "outputs": [
    {
     "data": {
      "text/plain": [
       "float"
      ]
     },
     "execution_count": 13,
     "metadata": {},
     "output_type": "execute_result"
    }
   ],
   "source": [
    "type(5.0)"
   ]
  },
  {
   "cell_type": "code",
   "execution_count": 14,
   "id": "ecc72941",
   "metadata": {},
   "outputs": [
    {
     "data": {
      "text/plain": [
       "bool"
      ]
     },
     "execution_count": 14,
     "metadata": {},
     "output_type": "execute_result"
    }
   ],
   "source": [
    "type(5>1)"
   ]
  },
  {
   "cell_type": "code",
   "execution_count": 16,
   "id": "1152f817",
   "metadata": {},
   "outputs": [
    {
     "data": {
      "text/plain": [
       "str"
      ]
     },
     "execution_count": 16,
     "metadata": {},
     "output_type": "execute_result"
    }
   ],
   "source": [
    "type('5')"
   ]
  },
  {
   "cell_type": "code",
   "execution_count": 18,
   "id": "94ab1ce3",
   "metadata": {},
   "outputs": [
    {
     "data": {
      "text/plain": [
       "int"
      ]
     },
     "execution_count": 18,
     "metadata": {},
     "output_type": "execute_result"
    }
   ],
   "source": [
    "type(5*2)"
   ]
  },
  {
   "cell_type": "code",
   "execution_count": 19,
   "id": "ed40bf4e",
   "metadata": {},
   "outputs": [
    {
     "data": {
      "text/plain": [
       "str"
      ]
     },
     "execution_count": 19,
     "metadata": {},
     "output_type": "execute_result"
    }
   ],
   "source": [
    "type('5'*2)"
   ]
  },
  {
   "cell_type": "code",
   "execution_count": 21,
   "id": "9e780c8f",
   "metadata": {},
   "outputs": [
    {
     "data": {
      "text/plain": [
       "str"
      ]
     },
     "execution_count": 21,
     "metadata": {},
     "output_type": "execute_result"
    }
   ],
   "source": [
    "type('5'+'2')"
   ]
  },
  {
   "cell_type": "code",
   "execution_count": 22,
   "id": "0e07e754",
   "metadata": {},
   "outputs": [
    {
     "data": {
      "text/plain": [
       "float"
      ]
     },
     "execution_count": 22,
     "metadata": {},
     "output_type": "execute_result"
    }
   ],
   "source": [
    "type(5/2)"
   ]
  },
  {
   "cell_type": "code",
   "execution_count": 25,
   "id": "2c6c1738",
   "metadata": {},
   "outputs": [
    {
     "data": {
      "text/plain": [
       "int"
      ]
     },
     "execution_count": 25,
     "metadata": {},
     "output_type": "execute_result"
    }
   ],
   "source": [
    "type(5%2)"
   ]
  },
  {
   "cell_type": "code",
   "execution_count": 30,
   "id": "050bee19",
   "metadata": {},
   "outputs": [],
   "source": [
    "a = {5,2,1}"
   ]
  },
  {
   "cell_type": "code",
   "execution_count": 31,
   "id": "6ac8eac3",
   "metadata": {},
   "outputs": [
    {
     "data": {
      "text/plain": [
       "set"
      ]
     },
     "execution_count": 31,
     "metadata": {},
     "output_type": "execute_result"
    }
   ],
   "source": [
    "type(a)"
   ]
  },
  {
   "cell_type": "code",
   "execution_count": 32,
   "id": "67dcec2f",
   "metadata": {},
   "outputs": [
    {
     "data": {
      "text/plain": [
       "bool"
      ]
     },
     "execution_count": 32,
     "metadata": {},
     "output_type": "execute_result"
    }
   ],
   "source": [
    "type(5 == 3)"
   ]
  },
  {
   "cell_type": "code",
   "execution_count": 34,
   "id": "bf29bdb9",
   "metadata": {},
   "outputs": [
    {
     "data": {
      "text/plain": [
       "False"
      ]
     },
     "execution_count": 34,
     "metadata": {},
     "output_type": "execute_result"
    }
   ],
   "source": [
    "5==2"
   ]
  },
  {
   "cell_type": "code",
   "execution_count": 36,
   "id": "3d32f0e4",
   "metadata": {},
   "outputs": [],
   "source": [
    "Pi=3.14"
   ]
  },
  {
   "cell_type": "code",
   "execution_count": 38,
   "id": "978754b2",
   "metadata": {},
   "outputs": [
    {
     "data": {
      "text/plain": [
       "float"
      ]
     },
     "execution_count": 38,
     "metadata": {},
     "output_type": "execute_result"
    }
   ],
   "source": [
    "type(Pi)"
   ]
  },
  {
   "cell_type": "markdown",
   "id": "7ad6281e",
   "metadata": {},
   "source": [
    "Question 2(a)"
   ]
  },
  {
   "cell_type": "code",
   "execution_count": 43,
   "id": "ca8d7b74",
   "metadata": {},
   "outputs": [],
   "source": [
    "a = 'Supercalifragilisticexpialidocious'"
   ]
  },
  {
   "cell_type": "code",
   "execution_count": 44,
   "id": "5e08df2b",
   "metadata": {},
   "outputs": [
    {
     "data": {
      "text/plain": [
       "34"
      ]
     },
     "execution_count": 44,
     "metadata": {},
     "output_type": "execute_result"
    }
   ],
   "source": [
    "len(a)"
   ]
  },
  {
   "cell_type": "markdown",
   "id": "7eb7796c",
   "metadata": {},
   "source": [
    "Question 2(b)"
   ]
  },
  {
   "cell_type": "code",
   "execution_count": 45,
   "id": "84434dd7",
   "metadata": {},
   "outputs": [
    {
     "data": {
      "text/plain": [
       "True"
      ]
     },
     "execution_count": 45,
     "metadata": {},
     "output_type": "execute_result"
    }
   ],
   "source": [
    "'ice' in 'Supercalifragilisticexpialidocious'"
   ]
  },
  {
   "cell_type": "markdown",
   "id": "ec6e9d32",
   "metadata": {},
   "source": [
    "Question 2(c)"
   ]
  },
  {
   "cell_type": "code",
   "execution_count": 46,
   "id": "70816ad5",
   "metadata": {},
   "outputs": [
    {
     "name": "stdout",
     "output_type": "stream",
     "text": [
      "The longest word among the three is: Supercalifragilisticexpialidocious\n"
     ]
    }
   ],
   "source": [
    "a = [\"Supercalifragilisticexpialidocious\", \"Honorificabilitudinitatibus\", \"Bababadalgharaghtakamminarronnkonn\"]\n",
    "longest_word = max(a, key=len)\n",
    "print(\"The longest word among the three is:\", longest_word)"
   ]
  },
  {
   "cell_type": "markdown",
   "id": "30f63f05",
   "metadata": {},
   "source": [
    "Question 2(d)"
   ]
  },
  {
   "cell_type": "code",
   "execution_count": 1,
   "id": "018ef41a",
   "metadata": {},
   "outputs": [
    {
     "name": "stdout",
     "output_type": "stream",
     "text": [
      "['Bartok', 'Bellini', 'Berlioz', 'Bernstein', 'Borodin', 'Brian', 'Buxtehude']\n"
     ]
    }
   ],
   "source": [
    "composers = ['Berlioz', 'Borodin', 'Brian', 'Bartok', 'Bellini', 'Buxtehude', 'Bernstein']\n",
    "composers.sort()\n",
    "print(composers)"
   ]
  },
  {
   "cell_type": "markdown",
   "id": "cd2128b6",
   "metadata": {},
   "source": [
    "Question 3"
   ]
  },
  {
   "cell_type": "code",
   "execution_count": 7,
   "id": "563634c7",
   "metadata": {},
   "outputs": [],
   "source": [
    "#function for tringle\n",
    "def triangle_area(a,b,c):\n",
    "    s = (a + b + c) / 2\n",
    "    area = (s*(s-a)*(s-b)*(s-c)) ** 0.5\n",
    "    print('The area of the triangle is: ', area)"
   ]
  },
  {
   "cell_type": "code",
   "execution_count": 8,
   "id": "bdc459f7",
   "metadata": {},
   "outputs": [
    {
     "name": "stdout",
     "output_type": "stream",
     "text": [
      "The area of the triangle is:  1.7320508075688772\n"
     ]
    }
   ],
   "source": [
    "triangle_area(2,2,2)"
   ]
  },
  {
   "cell_type": "markdown",
   "id": "21619faa",
   "metadata": {},
   "source": [
    "Question 4"
   ]
  },
  {
   "cell_type": "code",
   "execution_count": 1,
   "id": "5a2d5f64",
   "metadata": {},
   "outputs": [
    {
     "name": "stdout",
     "output_type": "stream",
     "text": [
      "How many elements in list :- 5\n",
      "Please enter the Value of 1 Element :- 25\n",
      "Please enter the Value of 2 Element :- 47\n",
      "Please enter the Value of 3 Element :- 42\n",
      "Please enter the Value of 4 Element :- 56\n",
      "Please enter the Value of 5 Element :- 32\n",
      "\n",
      " Element in Even List is :  [42, 56, 32]\n",
      "\n",
      " Element in Odd List is :  [25, 47]\n"
     ]
    }
   ],
   "source": [
    "NumList=[]\n",
    "Even = []\n",
    "Odd = []\n",
    " \n",
    "Number = int(input(\"How many elements in list :- \"))\n",
    " \n",
    "for i in range(1, Number + 1):\n",
    "    value = int(input(\"Please enter the Value of %d Element :- \" %i))\n",
    "    NumList.append(value)\n",
    " \n",
    "for j in range(Number):\n",
    "    if(NumList[j] % 2 == 0):\n",
    "        Even.append(NumList[j])\n",
    "    else:\n",
    "        Odd.append(NumList[j])\n",
    " \n",
    "print(\"\\n Element in Even List is : \", Even)\n",
    "print(\"\\n Element in Odd List is : \", Odd)"
   ]
  },
  {
   "cell_type": "markdown",
   "id": "35aad158",
   "metadata": {},
   "source": [
    "Question 5"
   ]
  },
  {
   "cell_type": "code",
   "execution_count": 9,
   "id": "62f8e50e",
   "metadata": {},
   "outputs": [],
   "source": [
    "def inside(x, y, x1, y1, x2, y2):\n",
    "    if x1 <= x <= x2 and y1 <= y <= y2:\n",
    "        return True\n",
    "    else:\n",
    "        return False\n"
   ]
  },
  {
   "cell_type": "code",
   "execution_count": 10,
   "id": "dc7902f8",
   "metadata": {},
   "outputs": [
    {
     "data": {
      "text/plain": [
       "True"
      ]
     },
     "execution_count": 10,
     "metadata": {},
     "output_type": "execute_result"
    }
   ],
   "source": [
    "inside(1,1,0,0,2,3)"
   ]
  },
  {
   "cell_type": "code",
   "execution_count": 11,
   "id": "9d64c69f",
   "metadata": {},
   "outputs": [
    {
     "data": {
      "text/plain": [
       "False"
      ]
     },
     "execution_count": 11,
     "metadata": {},
     "output_type": "execute_result"
    }
   ],
   "source": [
    "inside(-1,-1,0,0,2,3)"
   ]
  },
  {
   "cell_type": "code",
   "execution_count": 12,
   "id": "3b688943",
   "metadata": {},
   "outputs": [
    {
     "name": "stdout",
     "output_type": "stream",
     "text": [
      "False\n"
     ]
    }
   ],
   "source": [
    "rectangle1 = (0.3, 0.5, 1.1, 0.7)\n",
    "rectangle2 = (0.5, 0.2, 1.1, 2)\n",
    "\n",
    "x, y = 1, 1\n",
    "\n",
    "result = inside(x, y, *rectangle1) and inside(x, y, *rectangle2)\n",
    "print(result)\n"
   ]
  },
  {
   "cell_type": "markdown",
   "id": "02d7f2e0",
   "metadata": {},
   "source": [
    "Question 6"
   ]
  },
  {
   "cell_type": "code",
   "execution_count": 79,
   "id": "6bee8c6b",
   "metadata": {},
   "outputs": [],
   "source": [
    "def pig(word):\n",
    "    vowels = 'aeiou'\n",
    "    word = word.lower()\n",
    "    if word[0] in vowels:\n",
    "        return word + 'way'\n",
    "    else:\n",
    "        return word[1:] + word[0] + 'ay'"
   ]
  },
  {
   "cell_type": "code",
   "execution_count": 80,
   "id": "9bfa5ca2",
   "metadata": {},
   "outputs": [
    {
     "data": {
      "text/plain": [
       "'appyhay'"
      ]
     },
     "execution_count": 80,
     "metadata": {},
     "output_type": "execute_result"
    }
   ],
   "source": [
    "pig(\"happy\")"
   ]
  },
  {
   "cell_type": "code",
   "execution_count": 81,
   "id": "32b61328",
   "metadata": {},
   "outputs": [
    {
     "data": {
      "text/plain": [
       "'enterway'"
      ]
     },
     "execution_count": 81,
     "metadata": {},
     "output_type": "execute_result"
    }
   ],
   "source": [
    "pig(\"Enter\")"
   ]
  },
  {
   "cell_type": "markdown",
   "id": "2704ebff",
   "metadata": {},
   "source": [
    "Question 7"
   ]
  },
  {
   "cell_type": "code",
   "execution_count": 13,
   "id": "cb58781c",
   "metadata": {},
   "outputs": [
    {
     "name": "stdout",
     "output_type": "stream",
     "text": [
      "There are 15 patients of blood type A.\n",
      "There is one patient of blood type B.\n",
      "There are 13 patients of blood type AB.\n",
      "There are 15 patients of blood type O.\n",
      "There are no patients of blood type OO.\n"
     ]
    }
   ],
   "source": [
    "def bldcount(filename):\n",
    "    infile = open(filename, \"r\")\n",
    "    content = infile.read()\n",
    "    infile.close()\n",
    "    content = content.split()\n",
    "    bloodtype = ['A','B','AB','O','OO']\n",
    "    for i in bloodtype:\n",
    "        if content.count(i) == 0:\n",
    "            print('There are no patients of blood type', i + '.')\n",
    "        elif content.count(i) == 1:\n",
    "            print('There is one patient of blood type', i + '.')\n",
    "        else:\n",
    "            print('There are ' + str(content.count(i)) + ' patients of blood type', i + '.')\n",
    "\n",
    "bldcount('bloodtype1.txt')\n"
   ]
  },
  {
   "cell_type": "markdown",
   "id": "57b65b6d",
   "metadata": {},
   "source": [
    "Question 8"
   ]
  },
  {
   "cell_type": "code",
   "execution_count": 15,
   "id": "fdb5aba9",
   "metadata": {},
   "outputs": [],
   "source": [
    "def curconv(currency, amount):\n",
    "    exchange_rates = {}\n",
    "    \n",
    "    with open('currencies.txt') as f:\n",
    "        for line in f:\n",
    "            elements = line.strip().split()\n",
    "            cur, rate = elements[0], elements[1]\n",
    "            \n",
    "            exchange_rates[cur] = float(rate)\n",
    "    \n",
    "    if currency in exchange_rates:\n",
    "        return amount * exchange_rates[currency]\n",
    "    else:\n",
    "        return \"Error: unsupported currency\"\n"
   ]
  },
  {
   "cell_type": "code",
   "execution_count": 16,
   "id": "e99b2328",
   "metadata": {},
   "outputs": [
    {
     "data": {
      "text/plain": [
       "122.96544"
      ]
     },
     "execution_count": 16,
     "metadata": {},
     "output_type": "execute_result"
    }
   ],
   "source": [
    " curconv('EUR', 100)\n"
   ]
  },
  {
   "cell_type": "code",
   "execution_count": 17,
   "id": "e3c72d7c",
   "metadata": {},
   "outputs": [
    {
     "data": {
      "text/plain": [
       "1.241401"
      ]
     },
     "execution_count": 17,
     "metadata": {},
     "output_type": "execute_result"
    }
   ],
   "source": [
    "curconv('JPY', 100)"
   ]
  },
  {
   "cell_type": "markdown",
   "id": "540b9626",
   "metadata": {},
   "source": [
    "Question 9"
   ]
  },
  {
   "cell_type": "markdown",
   "id": "a498f979",
   "metadata": {},
   "source": [
    "TypeError:  unsupported operand type(s) for +: 'int' and 'str'\n",
    "IndexError: list index out of range\n",
    "ValueError: math domain error\n",
    "NameError:  name 'x' is not defined\n",
    "FileNotFoundError: [Errno 2] No such file or directory: 'filename.txt'"
   ]
  },
  {
   "cell_type": "markdown",
   "id": "c0ba5eed",
   "metadata": {},
   "source": [
    "Question 10"
   ]
  },
  {
   "cell_type": "code",
   "execution_count": 5,
   "id": "dad85877",
   "metadata": {},
   "outputs": [],
   "source": [
    "def frequencies(text):\n",
    "    letters = 'abcdefghijklmnopqrstuvwxyz'\n",
    "    frequency_list = [0] * 26\n",
    "    for char in text:\n",
    "        if char in letters:\n",
    "            frequency_list[ord(char) - ord('a')] += 1\n",
    "    return frequency_list\n"
   ]
  },
  {
   "cell_type": "code",
   "execution_count": 6,
   "id": "34d430de",
   "metadata": {},
   "outputs": [
    {
     "data": {
      "text/plain": [
       "[1, 0, 0, 0, 1, 0, 0, 0, 0, 0, 0, 1, 0, 0, 0, 2, 0, 0, 0, 0, 0, 0, 0, 0, 0, 0]"
      ]
     },
     "execution_count": 6,
     "metadata": {},
     "output_type": "execute_result"
    }
   ],
   "source": [
    "frequencies('apple')"
   ]
  },
  {
   "cell_type": "code",
   "execution_count": 7,
   "id": "da543d4c",
   "metadata": {},
   "outputs": [
    {
     "data": {
      "text/plain": [
       "[1, 1, 1, 3, 5, 1, 1, 2, 1, 0, 1, 0, 1, 2, 4, 0, 1, 2, 0, 2, 1, 0, 1, 1, 0, 0]"
      ]
     },
     "execution_count": 7,
     "metadata": {},
     "output_type": "execute_result"
    }
   ],
   "source": [
    "frequencies('The quick red fox got bored and went home.')\n"
   ]
  },
  {
   "cell_type": "code",
   "execution_count": null,
   "id": "c52ddfdd",
   "metadata": {},
   "outputs": [],
   "source": []
  }
 ],
 "metadata": {
  "kernelspec": {
   "display_name": "Python 3 (ipykernel)",
   "language": "python",
   "name": "python3"
  },
  "language_info": {
   "codemirror_mode": {
    "name": "ipython",
    "version": 3
   },
   "file_extension": ".py",
   "mimetype": "text/x-python",
   "name": "python",
   "nbconvert_exporter": "python",
   "pygments_lexer": "ipython3",
   "version": "3.9.13"
  }
 },
 "nbformat": 4,
 "nbformat_minor": 5
}
